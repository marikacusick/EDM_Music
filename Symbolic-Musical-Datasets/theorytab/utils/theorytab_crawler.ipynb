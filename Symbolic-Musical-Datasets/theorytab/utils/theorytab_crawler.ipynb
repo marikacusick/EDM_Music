{
 "cells": [
  {
   "cell_type": "code",
   "execution_count": 2,
   "metadata": {
    "collapsed": false
   },
   "outputs": [],
   "source": [
    "import requests\n",
    "from bs4 import BeautifulSoup\n",
    "import os\n",
    "import time\n",
    "import re\n",
    "import json\n",
    "import string\n",
    "from youtube_crawler import video_crawler\n",
    "from lxml import etree"
   ]
  },
  {
   "cell_type": "code",
   "execution_count": 9,
   "metadata": {
    "collapsed": true
   },
   "outputs": [],
   "source": [
    "def song_retrieval(artist, song, path_song):\n",
    "\n",
    "    song_url = 'https://www.hooktheory.com/theorytab/view/' + artist + '/' + song \n",
    "    response_song = requests.get(song_url)\n",
    "\n",
    "    soup = BeautifulSoup(response_song.text, 'html.parser')\n",
    "    li_list = soup.findAll(\"li\", { \"role\":\"presentation\"})\n",
    "\n",
    "    section_list = []\n",
    "    pk_list = []\n",
    "    \n",
    "    ## section \n",
    "    for i in range(len(li_list)-1):\n",
    "        sec = li_list[i].text.strip().lower().replace(\" \", \"-\")\n",
    "        section_list.append(sec)\n",
    "        pk_list.append(soup.findAll(\"div\", { \"role\":\"tabpanel\", \"id\":sec})[0].contents[0]['id'])\n",
    "\n",
    "    ## save xml\n",
    "    for idx, pk in  enumerate(pk_list):\n",
    "        req_url = 'https://www.hooktheory.com/songs/getXmlByPk?pk=' + str(pk)  ##\n",
    "        response_info = requests.get(req_url)\n",
    "        content = response_info.text\n",
    "        \n",
    "        with open(os.path.join(path_song, section_list[idx] + \".xml\"), \"w\", encoding=\"utf-8\") as f:\n",
    "            f.write(content)\n",
    "        time.sleep(0.08)\n",
    "    \n",
    "    ## get genre\n",
    "    wikiid = soup.findAll(\"multiselect\", { \"items\":\"genres\"})[0]['wikiid']\n",
    "    response_genre = requests.get('https://www.hooktheory.com/wiki/'+ str(wikiid) +'/genres')\n",
    "    genre_act_list = json.loads(response_genre.text)\n",
    "    genres = []\n",
    "    for g in genre_act_list:\n",
    "        if g['active']:\n",
    "            genres.append(g['name'])   \n",
    "    ## saving\n",
    "    info = {'section': section_list, 'pk':pk_list, 'song_url':song_url,\n",
    "            'genres': genres, 'wikiid':wikiid}\n",
    "\n",
    "    with open(os.path.join(path_song, 'song_info.json'), \"w\") as f:\n",
    "         json.dump(info, f)\n",
    "\n",
    "    ## youtube\n",
    "    parser = etree.XMLParser(recover=True)\n",
    "    root = etree.fromstring(content, parser=parser)\n",
    "    y_id = root.find('meta').find('YouTubeID').text\n",
    "\n",
    "    video_crawler(y_id, path_song)\n",
    "    \n",
    "    \n",
    "def get_song_list(url_artist, quite=False):\n",
    "    response_tmp = requests.get(website + url_artist)\n",
    "    soup = BeautifulSoup(response_tmp.text, 'html.parser')\n",
    "    item_list = soup.find_all(\"li\", { \"class\":\"grid-item\"})\n",
    "\n",
    "    song_name_list = []\n",
    "    for item in item_list:\n",
    "        song_name = item.find_all(\"a\", { \"class\":\"a-tab-cover\"})[0]['href'].split('/')[-1]\n",
    "        song_name_list.append(song_name)\n",
    "        if not quite:\n",
    "            print('   > %s' % song_name)\n",
    "    return song_name_list    \n",
    "   "
   ]
  },
  {
   "cell_type": "markdown",
   "metadata": {},
   "source": [
    "### Retrive urls of all  artists and songs"
   ]
  },
  {
   "cell_type": "code",
   "execution_count": 16,
   "metadata": {
    "collapsed": false
   },
   "outputs": [
    {
     "name": "stdout",
     "output_type": "stream",
     "text": [
      "==[w]=================================================\n",
      "https://www.hooktheory.com/theorytab/artists/w?page=1\n",
      "Total: 77\n",
      "----\n",
      "waka-flocka-flame\n",
      "   > no-hands\n",
      "wakabayashi-mitsuru\n",
      "   > this-game\n",
      "walden\n",
      "   > ciaco\n",
      "walk-off-the-earth\n",
      "   > lightning-bolt\n",
      "walk-the-moon\n",
      "   > shut-up-and-dance\n",
      "wallpaper\n",
      "   > best-song-everrr\n",
      "wally-badarou\n",
      "   > the-dachstein-angels\n",
      "walter-jack-rollins-and-steve-nelson\n",
      "   > frosty-the-snowman\n",
      "walter-buckley\n",
      "   > crazy-little-thing-called-love\n",
      "walter-murphy\n",
      "   > american-dad---theme-song\n",
      "   > family-guy---theme-song\n",
      "   > family-guy-theme-song\n",
      "   > the-freaking-fcc\n",
      "wan-wan\n",
      "   > divas-device\n",
      "   > life-guiding-song---prospect-mirai\n",
      "   > sky-filling-departed-spirit---lightning-word\n",
      "   > surpass-the-gate-of-the-silver-key\n",
      "   > the-princess-that-was-erased-from-history\n",
      "   > world-yamataizer\n",
      "wang-chung\n",
      "   > everybody-have-fun-tonight\n",
      "wanting\n",
      "   > jar-of-love\n",
      "war\n",
      "   > low-rider\n",
      "   > why-cant-we-be-friends\n",
      "warpaint\n",
      "   > baby\n",
      "   > shadows\n",
      "warrant\n",
      "   > i-saw-red\n",
      "warren-zevon\n",
      "   > accidentally-like-a-martyr\n",
      "   > please-stay\n",
      "   > things-to-do-in-denver-when-youre-dead\n",
      "   > werewolves-of-london\n",
      "warsongs\n",
      "   > piercing-light\n",
      "washed-out\n",
      "   > new-theory\n",
      "wave-master\n",
      "   > deja-vu-canals\n",
      "   > time-square\n",
      "wave-racer\n",
      "   > flash-drive\n",
      "   > streamers\n",
      "wavetraxx\n",
      "   > beach-stringz---lennox-remix\n",
      "wavves\n",
      "   > afraid-of-heights\n",
      "   > dreams-of-grandeur\n",
      "   > nine-is-god\n",
      "   > pony\n",
      "   > super-soaker\n",
      "   > thats-on-me\n",
      "   > way-too-much\n",
      "we-lost-the-sea\n",
      "   > bogatyri\n",
      "we-the-kings\n",
      "   > check-yes-juliet\n",
      "   > stay-young\n",
      "we-were-evergreen\n",
      "   > baby-blue\n",
      "   > best-thing\n",
      "weather-report\n",
      "   > birdland\n",
      "weeabophone\n",
      "   > beeeeees\n",
      "weebl\n",
      "   > amazing-horse\n",
      "   > donkeys\n",
      "   > fat-labrador\n",
      "   > owls\n",
      "ween\n",
      "   > freedom-of-76\n",
      "   > happy-colored-marbles\n",
      "   > object\n",
      "   > ocean-man\n",
      "   > roses-are-free\n",
      "   > the-hiv-song\n",
      "   > transdermal-celebration\n",
      "   > what-deaner-was-talking-about\n",
      "weezer\n",
      "   > buddy-holly\n",
      "   > dreamin\n",
      "   > el-scorcho\n",
      "   > fall-together-\n",
      "   > falling-for-you\n",
      "   > i-want-you-to\n",
      "   > island-in-the-sun\n",
      "   > king-of-the-world\n",
      "   > my-name-is-jonas\n",
      "   > no-one-else\n",
      "   > say-it-aint-so\n",
      "   > the-greatest-man-that-ever-lived\n",
      "weird-al-yankovic\n",
      "   > do-i-creep-you-out\n",
      "   > dont-download-this-song\n",
      "   > everything-you-know-is-wrong\n",
      "   > hardware-store\n",
      "   > midnight-star\n",
      "   > ringtone\n",
      "   > since-youve-been-gone\n",
      "   > skipper-dan\n",
      "   > stop-forwarding-that-crap-to-me\n",
      "   > the-night-santa-went-crazy\n",
      "   > virus-alert\n",
      "wellenrausch\n",
      "   > citylights\n",
      "wendell192\n",
      "   > robots\n",
      "wet-wet-wet\n",
      "   > love-is-all-around\n",
      "wg-snuffy-walden\n",
      "   > west-wing-suite\n",
      "wham\n",
      "   > freedom\n",
      "   > last-christmas\n",
      "white-town\n",
      "   > once-i-flew\n",
      "   > your-woman\n",
      "whiteflame\n",
      "   > senbonzakura\n",
      "whitesnake\n",
      "   > here-i-go-again\n",
      "   > is-this-love\n",
      "whitney-houston\n",
      "   > all-the-man-that-i-need\n",
      "   > greatest-love-of-all\n",
      "   > how-will-i-know\n",
      "   > i-have-nothing\n",
      "   > i-wanna-dance-with-somebody\n",
      "   > i-will-always-love-you\n",
      "   > im-your-baby-tonight\n",
      "   > its-not-right-but-its-okay---remix\n",
      "   > one-moment-in-time\n",
      "   > saving-all-my-love-for-you\n",
      "   > so-emotional\n",
      "wii-sports\n",
      "   > tennis-results\n",
      "wiktoria\n",
      "   > save-me\n",
      "wilco\n",
      "   > elt\n",
      "   > heavy-metal-drummer\n",
      "   > i-am-trying-to-break-your-heart\n",
      "   > nothingsevergonnastandinmyway\n",
      "   > poor-places\n",
      "   > shes-a-jar\n",
      "wild-nothing\n",
      "   > shadow\n",
      "will-b-and-steve-allen\n",
      "   > alchera---firestorm-and-steve-allen-remix\n",
      "will-i-am\n",
      "   > thatpower-ft-justin-bieber\n",
      "   > this-is-love\n",
      "will-i-am-and-britney-spears\n",
      "   > scream-and-shout\n",
      "will-young\n",
      "   > evergreen\n",
      "willie-nelson\n",
      "   > blue-eyes-cryin\n",
      "   > on-the-road-again\n",
      "willym\n",
      "   > happy\n",
      "wilson-phillips\n",
      "   > hold-on\n",
      "wintergatan\n",
      "   > marble-machine\n",
      "   > starmachine2000\n",
      "wire\n",
      "   > outdoor-miner\n",
      "with-me\n",
      "   > destinys-child\n",
      "within-temptation\n",
      "   > a-demons-fate\n",
      "   > iron\n",
      "wiz-khalifa\n",
      "   > black-and-yellow\n",
      "   > no-sleep\n",
      "wiz-khalifa-ft-charlie-puth\n",
      "   > see-you-again\n",
      "wizard\n",
      "   > fleet\n",
      "wizet\n",
      "   > maplestory---cash-shop\n",
      "wjsn\n",
      "   > i-wish\n",
      "   > momomo\n",
      "wolfgang-amadeus-mozart\n",
      "   > a-little-night-music\n",
      "   > canzonetta-sullaria---che-soave-zeffiretto\n",
      "   > confutatis-from-requiem\n",
      "   > contrapuntal-sketch-no2-in-c-minor---kv-deest\n",
      "   > der-holle-rache-kocht-in-meinem-herzen\n",
      "   > k387-string-quartet-no14-in-g-major\n",
      "   > kyrie-from-mass-in-c-minor-k-427\n",
      "   > lacrimosa-from-requiem\n",
      "   > piano-sonata-no-16-in-c-major\n",
      "   > rondo-alla-turca\n",
      "   > string-quartet-no-19-in-c-major-k-465\n",
      "   > symphony-25-in-g-minor-movement-i\n",
      "   > symphony-40-in-g-minor-movement-i\n",
      "   > symphony-no-40-in-g-minor---i\n",
      "wolfgang-gartner\n",
      "   > fire-power\n",
      "   > illmerica\n",
      "   > love-and-war\n",
      "   > space-junk\n",
      "   > the-way-it-was\n",
      "   > undertaker\n",
      "wolfgang-gartner-and-will-i-am\n",
      "   > forever\n",
      "wolfgun\n",
      "   > firmament\n",
      "   > lights\n",
      "womack-and-womack\n",
      "   > teardrops\n",
      "woodentoaster\n",
      "   > beyond-her-garden\n",
      "   > nightmare-night\n",
      "   > rainbow-factory\n",
      "woodkid\n",
      "   > brooklyn\n",
      "   > i-love-you\n",
      "   > iron\n",
      "woody-guthrie\n",
      "   > this-land-is-your-land\n",
      "working-for-a-nuclear-free-city\n",
      "   > je-suis-le-vent\n",
      "wretch-32\n",
      "   > alright-with-me\n",
      "wrld\n",
      "   > chase-it-ft-savoi\n",
      "   > drift-away\n",
      "wstr\n",
      "   > nail-the-casket\n",
      "wwe\n",
      "   > glorious-domination\n",
      "   > real-american\n",
      "wwewewe\n",
      "   > wwe\n",
      "wyclef-jean\n",
      "   > divine-sorrow\n",
      "wyd-krakow-2016\n",
      "   > blogoslawieni-milosierni\n",
      "==[x]=================================================\n",
      "https://www.hooktheory.com/theorytab/artists/x?page=1\n",
      "Total: 6\n",
      "----\n",
      "x-ambassadors\n",
      "   > unsteady\n",
      "xi\n",
      "   > freedom-dive\n",
      "xilent\n",
      "   > animation\n",
      "   > choose-me\n",
      "   > disconnect\n",
      "   > synthony\n",
      "   > the-place\n",
      "xxanaxx\n",
      "   > give-u-the-world\n",
      "   > got-u-under---spisek-jednego-remix\n",
      "   > story\n",
      "xxxtentacion\n",
      "   > orlando\n",
      "xyconstant\n",
      "   > white-noise\n",
      "=======================================================\n",
      "[1, 1]\n",
      "Artists: 83\n",
      "Songs: 192\n"
     ]
    }
   ],
   "source": [
    "list_pages = []\n",
    "archive_artist = dict()\n",
    "sleep_time = 0.11\n",
    "alphabet_list = string.ascii_lowercase[-4:-2]\n",
    "\n",
    "website = 'https://www.hooktheory.com'\n",
    "base_url = website + '/theorytab/artists/'\n",
    "\n",
    "artist_count = 0\n",
    "song_count = 0\n",
    "\n",
    "for ch in alphabet_list:\n",
    "    time.sleep(sleep_time)    \n",
    "    url = base_url+ch\n",
    "    response_tmp = requests.get(url)\n",
    "    soup = BeautifulSoup(response_tmp.text, 'html.parser')\n",
    "    page_count = 0\n",
    "    \n",
    "    print('==[%c]================================================='%ch)\n",
    "    \n",
    "    ## get artists list by pages\n",
    "    url_artist_list = []\n",
    "    for page in range(1,9999):\n",
    "        url = 'https://www.hooktheory.com/theorytab/artists/'+ch+'?page=' + str(page)\n",
    "        \n",
    "        time.sleep(sleep_time) \n",
    "        response_tmp = requests.get(url)\n",
    "        soup = BeautifulSoup(response_tmp.text, 'html.parser')\n",
    "        item_list = soup.find_all(\"li\", { \"class\":\"grid-item\"})\n",
    "        \n",
    "        if item_list:\n",
    "            print(url)\n",
    "            page_count += 1\n",
    "        else:\n",
    "            break\n",
    "            \n",
    "        for item in item_list:\n",
    "            url_artist_list.append(item.find_all(\"a\", { \"class\":\"a-tab-cover\"})[0]['href'])\n",
    "\n",
    "    print('Total:', len(url_artist_list))\n",
    "    \n",
    "    print('----')\n",
    "    \n",
    "    if not page_count:\n",
    "        page_count = 1  \n",
    "        \n",
    "    ## get song of artists\n",
    "    artist_song_dict = dict()\n",
    "    \n",
    "    for url_artist in url_artist_list:\n",
    "        artist_count+=1\n",
    "        time.sleep(sleep_time)\n",
    "        artist_name = url_artist.split('/')[-1]\n",
    "        print(artist_name)\n",
    "        song_name_list = get_song_list(url_artist)\n",
    "        song_count  += len(song_name_list)\n",
    "        artist_song_dict[artist_name] = song_name_list\n",
    "        \n",
    "    archive_artist[ch] = artist_song_dict\n",
    "    list_pages.append(page_count)\n",
    "\n",
    "print('=======================================================')\n",
    "print(list_pages)\n",
    "print('Artists:', artist_count)\n",
    "print('Songs:', song_count)\n",
    "\n",
    "\n",
    "with open('archive_artist.json', \"w\") as f:\n",
    "     json.dump(archive_artist, f)"
   ]
  },
  {
   "cell_type": "markdown",
   "metadata": {},
   "source": [
    "### Retrieve each songs"
   ]
  },
  {
   "cell_type": "code",
   "execution_count": 19,
   "metadata": {
    "collapsed": false,
    "scrolled": true
   },
   "outputs": [
    {
     "name": "stdout",
     "output_type": "stream",
     "text": [
      "==[w]=================================================\n",
      "(  1/192) war   low-rider\n",
      "(  2/192) war   why-cant-we-be-friends\n",
      "(  3/192) white-town   once-i-flew\n"
     ]
    },
    {
     "name": "stderr",
     "output_type": "stream",
     "text": [
      "ERROR: KPo-6RSGxQw: YouTube said: This video is not available.\n"
     ]
    },
    {
     "name": "stdout",
     "output_type": "stream",
     "text": [
      "Download Failed: KPo-6RSGxQw \n",
      "(  4/192) white-town   your-woman\n",
      "(  5/192) wizet   maplestory---cash-shop\n",
      "(  6/192) weezer   buddy-holly\n",
      "(  7/192) weezer   dreamin\n",
      "(  8/192) weezer   el-scorcho\n",
      "(  9/192) weezer   fall-together-\n",
      "( 10/192) weezer   falling-for-you\n",
      "( 11/192) weezer   i-want-you-to\n",
      "( 12/192) weezer   island-in-the-sun\n",
      "( 13/192) weezer   king-of-the-world\n",
      "( 14/192) weezer   my-name-is-jonas\n",
      "( 15/192) weezer   no-one-else\n",
      "( 16/192) weezer   say-it-aint-so\n",
      "( 17/192) weezer   the-greatest-man-that-ever-lived\n",
      "( 18/192) warsongs   piercing-light\n",
      "( 19/192) wiz-khalifa   black-and-yellow\n"
     ]
    },
    {
     "name": "stderr",
     "output_type": "stream",
     "text": [
      "ERROR: Unable to download webpage: <urlopen error EOF occurred in violation of protocol (_ssl.c:645)> (caused by URLError(SSLEOFError(8, 'EOF occurred in violation of protocol (_ssl.c:645)'),))\n"
     ]
    },
    {
     "name": "stdout",
     "output_type": "stream",
     "text": [
      "Download Failed: UePtoxDhJSw \n",
      "( 20/192) wiz-khalifa   no-sleep\n",
      "( 21/192) wave-racer   flash-drive\n"
     ]
    },
    {
     "name": "stderr",
     "output_type": "stream",
     "text": [
      "ERROR: _f9wKhbYEAA: YouTube said: This video is not available.\n"
     ]
    },
    {
     "name": "stdout",
     "output_type": "stream",
     "text": [
      "Download Failed: _f9wKhbYEAA \n",
      "( 22/192) wave-racer   streamers\n",
      "( 23/192) wallpaper   best-song-everrr\n",
      "( 24/192) wilco   elt\n",
      "( 25/192) wilco   heavy-metal-drummer\n",
      "( 26/192) wilco   i-am-trying-to-break-your-heart\n",
      "( 27/192) wilco   nothingsevergonnastandinmyway\n",
      "( 28/192) wilco   poor-places\n",
      "( 29/192) wilco   shes-a-jar\n",
      "( 30/192) wolfgun   firmament\n",
      "( 31/192) wolfgun   lights\n",
      "( 32/192) wilson-phillips   hold-on\n",
      "( 33/192) wintergatan   marble-machine\n",
      "( 34/192) wintergatan   starmachine2000\n",
      "( 35/192) working-for-a-nuclear-free-city   je-suis-le-vent\n",
      "( 36/192) wwe   glorious-domination\n",
      "( 37/192) wwe   real-american\n",
      "( 38/192) weird-al-yankovic   do-i-creep-you-out\n",
      "( 39/192) weird-al-yankovic   dont-download-this-song\n",
      "( 40/192) weird-al-yankovic   everything-you-know-is-wrong\n",
      "( 41/192) weird-al-yankovic   hardware-store\n"
     ]
    },
    {
     "name": "stderr",
     "output_type": "stream",
     "text": [
      "ERROR: YtKHBtqulOA: YouTube said: This video does not exist.\n"
     ]
    },
    {
     "name": "stdout",
     "output_type": "stream",
     "text": [
      "Download Failed: YtKHBtqulOA \n",
      "( 42/192) weird-al-yankovic   midnight-star\n",
      "( 43/192) weird-al-yankovic   ringtone\n",
      "( 44/192) weird-al-yankovic   since-youve-been-gone\n",
      "( 45/192) weird-al-yankovic   skipper-dan\n",
      "( 46/192) weird-al-yankovic   stop-forwarding-that-crap-to-me\n",
      "( 47/192) weird-al-yankovic   the-night-santa-went-crazy\n",
      "( 48/192) weird-al-yankovic   virus-alert\n",
      "( 49/192) wg-snuffy-walden   west-wing-suite\n",
      "( 50/192) ween   freedom-of-76\n"
     ]
    },
    {
     "name": "stderr",
     "output_type": "stream",
     "text": [
      "ERROR: T6QjWZujAls: YouTube said: This video does not exist.\n"
     ]
    },
    {
     "name": "stdout",
     "output_type": "stream",
     "text": [
      "Download Failed: T6QjWZujAls \n",
      "( 51/192) ween   happy-colored-marbles\n",
      "( 52/192) ween   object\n",
      "( 53/192) ween   ocean-man\n",
      "( 54/192) ween   roses-are-free\n"
     ]
    },
    {
     "name": "stderr",
     "output_type": "stream",
     "text": [
      "ERROR: t4PzQJCF2X8: YouTube said: This video does not exist.\n"
     ]
    },
    {
     "name": "stdout",
     "output_type": "stream",
     "text": [
      "Download Failed: t4PzQJCF2X8 \n",
      "( 55/192) ween   the-hiv-song\n",
      "( 56/192) ween   transdermal-celebration\n"
     ]
    },
    {
     "name": "stderr",
     "output_type": "stream",
     "text": [
      "ERROR: kpheHGX3m1Q: YouTube said: This video does not exist.\n"
     ]
    },
    {
     "name": "stdout",
     "output_type": "stream",
     "text": [
      "Download Failed: kpheHGX3m1Q \n",
      "( 57/192) ween   what-deaner-was-talking-about\n"
     ]
    },
    {
     "name": "stderr",
     "output_type": "stream",
     "text": [
      "ERROR: iDkt-K3vjMM: YouTube said: This video does not exist.\n"
     ]
    },
    {
     "name": "stdout",
     "output_type": "stream",
     "text": [
      "Download Failed: iDkt-K3vjMM \n",
      "( 58/192) weeabophone   beeeeees\n",
      "( 59/192) wham   freedom\n",
      "Download Failed: None \n",
      "( 60/192) wham   last-christmas\n",
      "( 61/192) woodkid   brooklyn\n",
      "( 62/192) woodkid   i-love-you\n",
      "( 63/192) woodkid   iron\n",
      "( 64/192) weebl   amazing-horse\n",
      "( 65/192) weebl   donkeys\n",
      "( 66/192) weebl   fat-labrador\n",
      "( 67/192) weebl   owls\n",
      "( 68/192) will-i-am-and-britney-spears   scream-and-shout\n",
      "( 69/192) wakabayashi-mitsuru   this-game\n"
     ]
    },
    {
     "name": "stderr",
     "output_type": "stream",
     "text": [
      "ERROR: sj_0rSdTDX8: YouTube said: This video does not exist.\n"
     ]
    },
    {
     "name": "stdout",
     "output_type": "stream",
     "text": [
      "Download Failed: sj_0rSdTDX8 \n",
      "( 70/192) wally-badarou   the-dachstein-angels\n"
     ]
    },
    {
     "name": "stderr",
     "output_type": "stream",
     "text": [
      "ERROR: 76RbI-Ro7hE: YouTube said: \"The Dachstein Ange...\"\n",
      "This video is no longer available due to a copyright claim by Wally Badarou.\n"
     ]
    },
    {
     "name": "stdout",
     "output_type": "stream",
     "text": [
      "Download Failed: 76RbI-Ro7hE \n",
      "( 71/192) wang-chung   everybody-have-fun-tonight\n",
      "( 72/192) wet-wet-wet   love-is-all-around\n",
      "( 73/192) whitney-houston   all-the-man-that-i-need\n",
      "( 74/192) whitney-houston   greatest-love-of-all\n",
      "( 75/192) whitney-houston   how-will-i-know\n",
      "( 76/192) whitney-houston   i-have-nothing\n",
      "( 77/192) whitney-houston   i-wanna-dance-with-somebody\n",
      "( 78/192) whitney-houston   i-will-always-love-you\n",
      "( 79/192) whitney-houston   im-your-baby-tonight\n",
      "( 80/192) whitney-houston   its-not-right-but-its-okay---remix\n",
      "( 81/192) whitney-houston   one-moment-in-time\n",
      "( 82/192) whitney-houston   saving-all-my-love-for-you\n",
      "( 83/192) whitney-houston   so-emotional\n",
      "( 84/192) willie-nelson   blue-eyes-cryin\n",
      "( 85/192) willie-nelson   on-the-road-again\n",
      "( 86/192) walter-buckley   crazy-little-thing-called-love\n"
     ]
    },
    {
     "name": "stderr",
     "output_type": "stream",
     "text": [
      "ERROR: EE34cSvZCd8: YouTube said: Please sign in to view this video.\n"
     ]
    },
    {
     "name": "stdout",
     "output_type": "stream",
     "text": [
      "Download Failed: EE34cSvZCd8 \n",
      "( 87/192) wyd-krakow-2016   blogoslawieni-milosierni\n",
      "( 88/192) willym   happy\n",
      "( 89/192) whiteflame   senbonzakura\n",
      "( 90/192) wrld   chase-it-ft-savoi\n",
      "( 91/192) wrld   drift-away\n",
      "( 92/192) warren-zevon   accidentally-like-a-martyr\n",
      "( 93/192) warren-zevon   please-stay\n",
      "( 94/192) warren-zevon   things-to-do-in-denver-when-youre-dead\n"
     ]
    },
    {
     "name": "stderr",
     "output_type": "stream",
     "text": [
      "ERROR: sQOyoPALBrE: YouTube said: \"Warren Zevon - Things to do...\"\n",
      "The YouTube account associated with this video has been terminated due to multiple third-party notifications of copyright infringement.\n"
     ]
    },
    {
     "name": "stdout",
     "output_type": "stream",
     "text": [
      "Download Failed: sQOyoPALBrE \n",
      "( 95/192) warren-zevon   werewolves-of-london\n",
      "( 96/192) warpaint   baby\n",
      "( 97/192) warpaint   shadows\n",
      "Download Failed: FZtF3OdtAnc \n",
      "( 98/192) warrant   i-saw-red\n",
      "( 99/192) we-the-kings   check-yes-juliet\n",
      "(100/192) we-the-kings   stay-young\n",
      "(101/192) wendell192   robots\n",
      "(102/192) wan-wan   divas-device\n",
      "(103/192) wan-wan   life-guiding-song---prospect-mirai\n",
      "(104/192) wan-wan   sky-filling-departed-spirit---lightning-word\n",
      "(105/192) wan-wan   surpass-the-gate-of-the-silver-key\n",
      "(106/192) wan-wan   the-princess-that-was-erased-from-history\n",
      "(107/192) wan-wan   world-yamataizer\n",
      "(108/192) waka-flocka-flame   no-hands\n",
      "(109/192) with-me   destinys-child\n",
      "Download Failed: null \n",
      "(110/192) wizard   fleet\n",
      "(111/192) walk-off-the-earth   lightning-bolt\n",
      "(112/192) we-lost-the-sea   bogatyri\n",
      "(113/192) wolfgang-gartner-and-will-i-am   forever\n",
      "(114/192) wjsn   i-wish\n",
      "(115/192) wjsn   momomo\n",
      "(116/192) walk-the-moon   shut-up-and-dance\n",
      "(117/192) we-were-evergreen   baby-blue\n",
      "(118/192) we-were-evergreen   best-thing\n",
      "(119/192) wolfgang-gartner   fire-power\n",
      "(120/192) wolfgang-gartner   illmerica\n",
      "(121/192) wolfgang-gartner   love-and-war\n",
      "(122/192) wolfgang-gartner   space-junk\n",
      "(123/192) wolfgang-gartner   the-way-it-was\n",
      "(124/192) wolfgang-gartner   undertaker\n",
      "(125/192) womack-and-womack   teardrops\n",
      "(126/192) wiz-khalifa-ft-charlie-puth   see-you-again\n",
      "(127/192) walter-murphy   american-dad---theme-song\n",
      "(128/192) walter-murphy   family-guy---theme-song\n"
     ]
    },
    {
     "name": "stderr",
     "output_type": "stream",
     "text": [
      "ERROR: y1VNjb9iXXw: YouTube said: This video does not exist.\n"
     ]
    },
    {
     "name": "stdout",
     "output_type": "stream",
     "text": [
      "Download Failed: y1VNjb9iXXw \n",
      "(129/192) walter-murphy   family-guy-theme-song\n"
     ]
    },
    {
     "name": "stderr",
     "output_type": "stream",
     "text": [
      "ERROR: y1VNjb9iXXw: YouTube said: This video does not exist.\n"
     ]
    },
    {
     "name": "stdout",
     "output_type": "stream",
     "text": [
      "Download Failed: y1VNjb9iXXw \n",
      "(130/192) walter-murphy   the-freaking-fcc\n"
     ]
    },
    {
     "name": "stderr",
     "output_type": "stream",
     "text": [
      "ERROR: 2NDPT0Ph5rA: YouTube said: Please sign in to view this video.\n"
     ]
    },
    {
     "name": "stdout",
     "output_type": "stream",
     "text": [
      "Download Failed: 2NDPT0Ph5rA \n",
      "(131/192) wyclef-jean   divine-sorrow\n",
      "(132/192) wire   outdoor-miner\n",
      "(133/192) walter-jack-rollins-and-steve-nelson   frosty-the-snowman\n",
      "(134/192) wstr   nail-the-casket\n",
      "(135/192) wavetraxx   beach-stringz---lennox-remix\n",
      "(136/192) wiktoria   save-me\n",
      "(137/192) wavves   afraid-of-heights\n",
      "(138/192) wavves   dreams-of-grandeur\n",
      "(139/192) wavves   nine-is-god\n",
      "(140/192) wavves   pony\n",
      "(141/192) wavves   super-soaker\n",
      "(142/192) wavves   thats-on-me\n",
      "(143/192) wavves   way-too-much\n",
      "(144/192) walden   ciaco\n",
      "(145/192) weather-report   birdland\n",
      "(146/192) woody-guthrie   this-land-is-your-land\n",
      "(147/192) will-i-am   thatpower-ft-justin-bieber\n"
     ]
    },
    {
     "name": "stderr",
     "output_type": "stream",
     "text": [
      "ERROR: A0hUdBLiASQ: YouTube said: This video does not exist.\n"
     ]
    },
    {
     "name": "stdout",
     "output_type": "stream",
     "text": [
      "Download Failed: A0hUdBLiASQ \n",
      "(148/192) will-i-am   this-is-love\n",
      "(149/192) washed-out   new-theory\n",
      "(150/192) wanting   jar-of-love\n",
      "(151/192) wwewewe   wwe\n",
      "(152/192) wii-sports   tennis-results\n",
      "(153/192) within-temptation   a-demons-fate\n",
      "(154/192) within-temptation   iron\n",
      "(155/192) woodentoaster   beyond-her-garden\n",
      "(156/192) woodentoaster   nightmare-night\n",
      "(157/192) woodentoaster   rainbow-factory\n",
      "(158/192) whitesnake   here-i-go-again\n"
     ]
    },
    {
     "name": "stderr",
     "output_type": "stream",
     "text": [
      "ERROR: The uploader has not made this video available in your country.\n",
      "You might want to use a VPN or a proxy server (with --proxy) to workaround.\n"
     ]
    },
    {
     "name": "stdout",
     "output_type": "stream",
     "text": [
      "Download Failed: i3MXiTeH_Pg \n",
      "(159/192) whitesnake   is-this-love\n"
     ]
    },
    {
     "name": "stderr",
     "output_type": "stream",
     "text": [
      "ERROR: ujnH4yNqL8E: YouTube said: This video contains content from WMG, who has blocked it in your country on copyright grounds.\n"
     ]
    },
    {
     "name": "stdout",
     "output_type": "stream",
     "text": [
      "Download Failed: ujnH4yNqL8E \n",
      "(160/192) wellenrausch   citylights\n",
      "(161/192) wild-nothing   shadow\n",
      "(162/192) will-young   evergreen\n",
      "(163/192) wave-master   deja-vu-canals\n",
      "(164/192) wave-master   time-square\n",
      "(165/192) will-b-and-steve-allen   alchera---firestorm-and-steve-allen-remix\n"
     ]
    },
    {
     "name": "stderr",
     "output_type": "stream",
     "text": [
      "ERROR: lGZVvP8QDZA: YouTube said: \"Will B & Steve Allen - Alch...\"\n",
      "The YouTube account associated with this video has been terminated due to multiple third-party notifications of copyright infringement.\n"
     ]
    },
    {
     "name": "stdout",
     "output_type": "stream",
     "text": [
      "Download Failed: lGZVvP8QDZA \n",
      "(166/192) wretch-32   alright-with-me\n",
      "(167/192) wolfgang-amadeus-mozart   a-little-night-music\n",
      "(168/192) wolfgang-amadeus-mozart   canzonetta-sullaria---che-soave-zeffiretto\n",
      "(169/192) wolfgang-amadeus-mozart   confutatis-from-requiem\n"
     ]
    },
    {
     "name": "stderr",
     "output_type": "stream",
     "text": [
      "ERROR: _Lav_lDJ2LM: YouTube said: This video does not exist.\n"
     ]
    },
    {
     "name": "stdout",
     "output_type": "stream",
     "text": [
      "Download Failed: _Lav_lDJ2LM \n",
      "(170/192) wolfgang-amadeus-mozart   contrapuntal-sketch-no2-in-c-minor---kv-deest\n"
     ]
    },
    {
     "name": "stderr",
     "output_type": "stream",
     "text": [
      "ERROR: heHnBqa4GOg: YouTube said: This video is not available.\n"
     ]
    },
    {
     "name": "stdout",
     "output_type": "stream",
     "text": [
      "Download Failed: heHnBqa4GOg \n",
      "(171/192) wolfgang-amadeus-mozart   der-holle-rache-kocht-in-meinem-herzen\n",
      "(172/192) wolfgang-amadeus-mozart   k387-string-quartet-no14-in-g-major\n",
      "(173/192) wolfgang-amadeus-mozart   kyrie-from-mass-in-c-minor-k-427\n"
     ]
    },
    {
     "name": "stderr",
     "output_type": "stream",
     "text": [
      "ERROR: hieCzEZwRw4: YouTube said: This video does not exist.\n"
     ]
    },
    {
     "name": "stdout",
     "output_type": "stream",
     "text": [
      "Download Failed: hieCzEZwRw4 \n",
      "(174/192) wolfgang-amadeus-mozart   lacrimosa-from-requiem\n",
      "(175/192) wolfgang-amadeus-mozart   piano-sonata-no-16-in-c-major\n",
      "(176/192) wolfgang-amadeus-mozart   rondo-alla-turca\n",
      "(177/192) wolfgang-amadeus-mozart   string-quartet-no-19-in-c-major-k-465\n"
     ]
    },
    {
     "name": "stderr",
     "output_type": "stream",
     "text": [
      "ERROR: ZmXtpmr9UQc: YouTube said: This video has been removed by the user.\n"
     ]
    },
    {
     "name": "stdout",
     "output_type": "stream",
     "text": [
      "Download Failed: ZmXtpmr9UQc \n",
      "(178/192) wolfgang-amadeus-mozart   symphony-25-in-g-minor-movement-i\n",
      "(179/192) wolfgang-amadeus-mozart   symphony-40-in-g-minor-movement-i\n",
      "(180/192) wolfgang-amadeus-mozart   symphony-no-40-in-g-minor---i\n",
      "==[x]=================================================\n",
      "(181/192) xxanaxx   give-u-the-world\n",
      "(182/192) xxanaxx   got-u-under---spisek-jednego-remix\n",
      "(183/192) xxanaxx   story\n",
      "(184/192) xilent   animation\n",
      "(185/192) xilent   choose-me\n",
      "(186/192) xilent   disconnect\n"
     ]
    },
    {
     "name": "stderr",
     "output_type": "stream",
     "text": [
      "ERROR: OB046qaE6cM: YouTube said: This video is not available.\n"
     ]
    },
    {
     "name": "stdout",
     "output_type": "stream",
     "text": [
      "Download Failed: OB046qaE6cM \n",
      "(187/192) xilent   synthony\n",
      "(188/192) xilent   the-place\n",
      "(189/192) xxxtentacion   orlando\n",
      "(190/192) x-ambassadors   unsteady\n",
      "(191/192) xi   freedom-dive\n",
      "(192/192) xyconstant   white-noise\n"
     ]
    }
   ],
   "source": [
    "root_dir = 'archive'\n",
    "\n",
    "with open('archive_artist.json', \"r\") as f:\n",
    "     archive_artist = json.load(f)\n",
    "\n",
    "now_count = 1\n",
    "        \n",
    "for ch in alphabet_list:\n",
    "    path_ch = os.path.join(root_dir, ch)\n",
    "    print('==[%c]================================================='%ch)\n",
    "    \n",
    "    if not os.path.exists(path_ch):\n",
    "        os.makedirs(path_ch)\n",
    "    \n",
    "    for a_name in archive_artist[ch].keys():        \n",
    "        for s_name in archive_artist[ch][a_name]:\n",
    "\n",
    "            print('(%3d/%3d) %s   %s' % (now_count, song_count, a_name , s_name))\n",
    "            path_song = os.path.join(path_ch, a_name, s_name)\n",
    "            \n",
    "            if not os.path.exists(path_song):\n",
    "                os.makedirs(path_song)\n",
    "            \n",
    "            time.sleep(sleep_time)  \n",
    "            song_retrieval(a_name, s_name, path_song)\n",
    "            \n",
    "            now_count+=1 \n",
    "            \n",
    "            "
   ]
  }
 ],
 "metadata": {
  "kernelspec": {
   "display_name": "Python [mir]",
   "language": "python",
   "name": "Python [mir]"
  },
  "language_info": {
   "codemirror_mode": {
    "name": "ipython",
    "version": 3
   },
   "file_extension": ".py",
   "mimetype": "text/x-python",
   "name": "python",
   "nbconvert_exporter": "python",
   "pygments_lexer": "ipython3",
   "version": "3.5.2"
  }
 },
 "nbformat": 4,
 "nbformat_minor": 0
}
